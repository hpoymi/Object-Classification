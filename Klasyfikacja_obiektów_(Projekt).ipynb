{
  "nbformat": 4,
  "nbformat_minor": 0,
  "metadata": {
    "colab": {
      "provenance": [],
      "include_colab_link": true
    },
    "kernelspec": {
      "name": "python3",
      "display_name": "Python 3"
    },
    "language_info": {
      "name": "python"
    }
  },
  "cells": [
    {
      "cell_type": "markdown",
      "metadata": {
        "id": "view-in-github",
        "colab_type": "text"
      },
      "source": [
        "<a href=\"https://colab.research.google.com/github/hpoymi/hpoymi/blob/main/Klasyfikacja_obiekt%C3%B3w_(Projekt).ipynb\" target=\"_parent\"><img src=\"https://colab.research.google.com/assets/colab-badge.svg\" alt=\"Open In Colab\"/></a>"
      ]
    },
    {
      "cell_type": "code",
      "source": [
        "import numpy as np\n",
        "from keras.preprocessing.image import ImageDataGenerator\n",
        "from keras.models import Sequential\n",
        "from keras.layers import Dense, Flatten, Conv2D, MaxPooling2D, Activation, Dropout\n",
        "from keras import optimizers\n",
        "import keras"
      ],
      "metadata": {
        "id": "FV8CXra-00hd"
      },
      "execution_count": 6,
      "outputs": []
    },
    {
      "cell_type": "code",
      "source": [
        "from google.colab import drive\n",
        "drive.mount('/content/drive')"
      ],
      "metadata": {
        "id": "XeV4X4YLc-6n",
        "colab": {
          "base_uri": "https://localhost:8080/"
        },
        "outputId": "552d1c45-3f78-4c54-d332-cef929261ae5"
      },
      "execution_count": 2,
      "outputs": [
        {
          "output_type": "stream",
          "name": "stdout",
          "text": [
            "Mounted at /content/drive\n"
          ]
        }
      ]
    },
    {
      "cell_type": "code",
      "source": [
        "num_classes = 3\n",
        "\n",
        "img_width, img_height = 128, 128"
      ],
      "metadata": {
        "id": "GC1GfOZi03EZ"
      },
      "execution_count": 7,
      "outputs": []
    },
    {
      "cell_type": "code",
      "source": [
        "import cv2\n",
        "import os\n",
        "\n",
        "for i in [\"car\",\"cat\",\"bird\"]:\n",
        "  for file in os.listdir(\"/content/sample_data/train/\"+i):\n",
        "      if not file.startswith('.'):\n",
        "          img = cv2.imread('/content/sample_data/train/'+i+'/' + '/' + file)\n",
        "          img = cv2.resize(img, (img_width, img_height))\n",
        "          cv2.imwrite('/content/sample_data/train/'+i+'/' + '/' + file, img)\n",
        "\n",
        "for i in [\"car\",\"cat\",\"bird\"]:\n",
        "  for file in os.listdir('/content/sample_data/test/'+i+'/'):\n",
        "      if not file.startswith('.'):\n",
        "          img = cv2.imread('/content/sample_data/test/'+i+'/' + '/' + file)\n",
        "          img = cv2.resize(img, (img_width, img_height))\n",
        "          cv2.imwrite('/content/sample_data/test/'+i+'/' + '/' + file, img)"
      ],
      "metadata": {
        "id": "Zwfwhqb4BwXD"
      },
      "execution_count": 8,
      "outputs": []
    },
    {
      "cell_type": "code",
      "source": [
        "from keras.models import load_model\n",
        "model2 = load_model('/content/drive/MyDrive/model_saved1.h5')\n"
      ],
      "metadata": {
        "id": "L359HmvHeFQL"
      },
      "execution_count": 77,
      "outputs": []
    },
    {
      "cell_type": "code",
      "source": [
        "model = Sequential()\n",
        "\n",
        "model.add(Conv2D(32, (3, 3), padding='same', input_shape=(img_width, img_height, 3)))\n",
        "model.add(Activation('relu'))\n",
        "model.add(Conv2D(32, (3, 3)))\n",
        "model.add(Activation('relu'))\n",
        "model.add(MaxPooling2D(pool_size=(2, 2)))\n",
        "model.add(Dropout(0.25))\n",
        "\n",
        "model.add(Conv2D(64, (3, 3), padding='same'))\n",
        "model.add(Activation('relu'))\n",
        "model.add(Conv2D(64, (3, 3)))\n",
        "model.add(Activation('relu'))\n",
        "model.add(MaxPooling2D(pool_size=(2, 2)))\n",
        "model.add(Dropout(0.25))\n",
        "\n",
        "model.add(Flatten())\n",
        "model.add(Dense(512))\n",
        "model.add(Activation('relu'))\n",
        "model.add(Dropout(0.5))\n",
        "model.add(Dense(num_classes))\n",
        "model.add(Activation('softmax'))\n"
      ],
      "metadata": {
        "id": "PR_ip9NI_l4e"
      },
      "execution_count": 9,
      "outputs": []
    },
    {
      "cell_type": "code",
      "source": [
        "opt = keras.optimizers.RMSprop(learning_rate=0.0001, decay=1e-6)\n",
        "model.compile(loss='categorical_crossentropy', optimizer=opt, metrics=['accuracy'], run_eagerly=True)"
      ],
      "metadata": {
        "id": "XwYWjUqjeZ3M"
      },
      "execution_count": 10,
      "outputs": []
    },
    {
      "cell_type": "code",
      "source": [
        "model.summary()"
      ],
      "metadata": {
        "colab": {
          "base_uri": "https://localhost:8080/"
        },
        "id": "CM5eWmwk-DDz",
        "outputId": "ba8234b2-bd67-45ca-b4b4-3b032ffe8415"
      },
      "execution_count": 18,
      "outputs": [
        {
          "output_type": "stream",
          "name": "stdout",
          "text": [
            "Model: \"sequential\"\n",
            "_________________________________________________________________\n",
            " Layer (type)                Output Shape              Param #   \n",
            "=================================================================\n",
            " conv2d (Conv2D)             (None, 128, 128, 32)      896       \n",
            "                                                                 \n",
            " activation (Activation)     (None, 128, 128, 32)      0         \n",
            "                                                                 \n",
            " conv2d_1 (Conv2D)           (None, 126, 126, 32)      9248      \n",
            "                                                                 \n",
            " activation_1 (Activation)   (None, 126, 126, 32)      0         \n",
            "                                                                 \n",
            " max_pooling2d (MaxPooling2D  (None, 63, 63, 32)       0         \n",
            " )                                                               \n",
            "                                                                 \n",
            " dropout (Dropout)           (None, 63, 63, 32)        0         \n",
            "                                                                 \n",
            " conv2d_2 (Conv2D)           (None, 63, 63, 64)        18496     \n",
            "                                                                 \n",
            " activation_2 (Activation)   (None, 63, 63, 64)        0         \n",
            "                                                                 \n",
            " conv2d_3 (Conv2D)           (None, 61, 61, 64)        36928     \n",
            "                                                                 \n",
            " activation_3 (Activation)   (None, 61, 61, 64)        0         \n",
            "                                                                 \n",
            " max_pooling2d_1 (MaxPooling  (None, 30, 30, 64)       0         \n",
            " 2D)                                                             \n",
            "                                                                 \n",
            " dropout_1 (Dropout)         (None, 30, 30, 64)        0         \n",
            "                                                                 \n",
            " flatten (Flatten)           (None, 57600)             0         \n",
            "                                                                 \n",
            " dense (Dense)               (None, 512)               29491712  \n",
            "                                                                 \n",
            " activation_4 (Activation)   (None, 512)               0         \n",
            "                                                                 \n",
            " dropout_2 (Dropout)         (None, 512)               0         \n",
            "                                                                 \n",
            " dense_1 (Dense)             (None, 3)                 1539      \n",
            "                                                                 \n",
            " activation_5 (Activation)   (None, 3)                 0         \n",
            "                                                                 \n",
            "=================================================================\n",
            "Total params: 29,558,819\n",
            "Trainable params: 29,558,819\n",
            "Non-trainable params: 0\n",
            "_________________________________________________________________\n"
          ]
        }
      ]
    },
    {
      "cell_type": "code",
      "source": [
        "train_datagen = ImageDataGenerator(\n",
        "    zca_epsilon=1e-06,\n",
        "    width_shift_range=0.1,\n",
        "    height_shift_range=0.1,\n",
        "    shear_range=0.2,\n",
        "    zoom_range=0.2,\n",
        "    fill_mode='nearest',\n",
        "    horizontal_flip=True,\n",
        "    rescale=1./255,\n",
        ")"
      ],
      "metadata": {
        "id": "qJhMwHh1fDo7"
      },
      "execution_count": 11,
      "outputs": []
    },
    {
      "cell_type": "code",
      "source": [
        "test_datagen = ImageDataGenerator(\n",
        "    zca_epsilon=1e-06,\n",
        "    width_shift_range=0.1,\n",
        "    height_shift_range=0.1,\n",
        "    shear_range=0.2,\n",
        "    zoom_range=0.2,\n",
        "    fill_mode='nearest',\n",
        "    horizontal_flip=True,\n",
        "    rescale=1./255,\n",
        "    )"
      ],
      "metadata": {
        "id": "8eu-EZjlCJP_"
      },
      "execution_count": 12,
      "outputs": []
    },
    {
      "cell_type": "code",
      "source": [
        "from keras.utils import to_categorical\n",
        "\n",
        "training_set = train_datagen.flow_from_directory('/content/sample_data/train/',\n",
        "                                                 target_size = (img_width, img_height),\n",
        "                                                 batch_size = 3,\n",
        "                                                 class_mode = 'categorical',\n",
        "                                                 classes = [\"car\",\"cat\",\"bird\"])\n",
        "\n",
        "test_set = test_datagen.flow_from_directory('/content/sample_data/test/',\n",
        "                                            target_size = (img_width, img_height),\n",
        "                                            batch_size = 2,\n",
        "                                            class_mode = 'categorical',\n",
        "                                            classes = [\"car\",\"cat\",\"bird\",])\n"
      ],
      "metadata": {
        "id": "bpC7KxmS5J6T",
        "colab": {
          "base_uri": "https://localhost:8080/"
        },
        "outputId": "3a46feb8-8491-4b07-b0a4-f77cc24be4a0"
      },
      "execution_count": 13,
      "outputs": [
        {
          "output_type": "stream",
          "name": "stdout",
          "text": [
            "Found 30 images belonging to 3 classes.\n",
            "Found 20 images belonging to 3 classes.\n"
          ]
        }
      ]
    },
    {
      "cell_type": "code",
      "source": [
        "len(test_set)"
      ],
      "metadata": {
        "colab": {
          "base_uri": "https://localhost:8080/"
        },
        "id": "Y7tjVL7ogIo8",
        "outputId": "809f36e3-f98d-43ec-d89d-d6806cdc23f5"
      },
      "execution_count": 121,
      "outputs": [
        {
          "output_type": "execute_result",
          "data": {
            "text/plain": [
              "13"
            ]
          },
          "metadata": {},
          "execution_count": 121
        }
      ]
    },
    {
      "cell_type": "code",
      "source": [
        "train_targets = to_categorical(training_set.classes, num_classes=num_classes)\n",
        "test_targets = to_categorical(test_set.classes, num_classes=num_classes)"
      ],
      "metadata": {
        "id": "0L7mTRjW5Pwm"
      },
      "execution_count": 14,
      "outputs": []
    },
    {
      "cell_type": "code",
      "source": [
        "num_training_samples = len(training_set.classes)\n",
        "\n",
        "num_validation_samples = len(test_set.classes)"
      ],
      "metadata": {
        "id": "0wOlvwQX8s9_"
      },
      "execution_count": 15,
      "outputs": []
    },
    {
      "cell_type": "code",
      "source": [
        "early_stopping = keras.callbacks.EarlyStopping(monitor='val_loss', min_delta=0, patience=5,\n",
        "                                               verbose=0, mode='auto', baseline=None, restore_best_weights=True)\n",
        "\n",
        "checkpoint = keras.callbacks.ModelCheckpoint('model1.h5', monitor='val_loss',\n",
        "                                             verbose=0, save_best_only=True, save_weights_only=False, mode='auto', period=1)\n",
        "callbacks = [early_stopping, checkpoint]"
      ],
      "metadata": {
        "id": "lHv0ICYF2_lH",
        "colab": {
          "base_uri": "https://localhost:8080/"
        },
        "outputId": "b41c23f1-74ac-4dd4-eb68-4e44d6d59d36"
      },
      "execution_count": 146,
      "outputs": [
        {
          "output_type": "stream",
          "name": "stderr",
          "text": [
            "WARNING:tensorflow:`period` argument is deprecated. Please use `save_freq` to specify the frequency in number of batches seen.\n"
          ]
        }
      ]
    },
    {
      "cell_type": "code",
      "source": [
        "history = model.fit(training_set, \n",
        "                    epochs=100, \n",
        "                    steps_per_epoch=10,\n",
        "                    validation_steps=10,\n",
        "                    validation_data=test_set, \n",
        "                    callbacks=callbacks\n",
        "                    )"
      ],
      "metadata": {
        "id": "g76SDqj5gSgf",
        "colab": {
          "base_uri": "https://localhost:8080/"
        },
        "outputId": "e286a01b-38dd-4d73-c924-2e2abb0faf18"
      },
      "execution_count": 149,
      "outputs": [
        {
          "output_type": "stream",
          "name": "stdout",
          "text": [
            "Epoch 1/100\n",
            "10/10 [==============================] - 14s 1s/step - loss: 1.2115 - accuracy: 0.3333 - val_loss: 1.0553 - val_accuracy: 0.5000\n",
            "Epoch 2/100\n",
            "10/10 [==============================] - 13s 1s/step - loss: 1.1444 - accuracy: 0.3667 - val_loss: 1.1122 - val_accuracy: 0.2500\n",
            "Epoch 3/100\n",
            "10/10 [==============================] - 12s 1s/step - loss: 1.1884 - accuracy: 0.2667 - val_loss: 1.1025 - val_accuracy: 0.2500\n",
            "Epoch 4/100\n",
            "10/10 [==============================] - 13s 1s/step - loss: 1.1453 - accuracy: 0.2333 - val_loss: 1.0973 - val_accuracy: 0.3000\n",
            "Epoch 5/100\n",
            "10/10 [==============================] - 14s 1s/step - loss: 1.0734 - accuracy: 0.5667 - val_loss: 1.0361 - val_accuracy: 0.5000\n",
            "Epoch 6/100\n",
            "10/10 [==============================] - 13s 1s/step - loss: 1.0427 - accuracy: 0.5000 - val_loss: 1.0674 - val_accuracy: 0.6000\n",
            "Epoch 7/100\n",
            "10/10 [==============================] - 14s 1s/step - loss: 1.0220 - accuracy: 0.4000 - val_loss: 1.0034 - val_accuracy: 0.5000\n",
            "Epoch 8/100\n",
            "10/10 [==============================] - 13s 1s/step - loss: 1.0313 - accuracy: 0.5000 - val_loss: 1.0698 - val_accuracy: 0.3500\n",
            "Epoch 9/100\n",
            "10/10 [==============================] - 13s 1s/step - loss: 1.0440 - accuracy: 0.4333 - val_loss: 1.0589 - val_accuracy: 0.4500\n",
            "Epoch 10/100\n",
            "10/10 [==============================] - 13s 1s/step - loss: 0.9768 - accuracy: 0.5333 - val_loss: 1.0421 - val_accuracy: 0.5500\n",
            "Epoch 11/100\n",
            "10/10 [==============================] - 14s 1s/step - loss: 0.8934 - accuracy: 0.7333 - val_loss: 0.8944 - val_accuracy: 0.5500\n",
            "Epoch 12/100\n",
            "10/10 [==============================] - 14s 1s/step - loss: 0.9461 - accuracy: 0.5667 - val_loss: 0.8883 - val_accuracy: 0.7500\n",
            "Epoch 13/100\n",
            "10/10 [==============================] - 13s 1s/step - loss: 0.9160 - accuracy: 0.6667 - val_loss: 0.8897 - val_accuracy: 0.8000\n",
            "Epoch 14/100\n",
            "10/10 [==============================] - 13s 1s/step - loss: 0.8269 - accuracy: 0.6333 - val_loss: 0.9965 - val_accuracy: 0.5500\n",
            "Epoch 15/100\n",
            "10/10 [==============================] - 14s 1s/step - loss: 0.8163 - accuracy: 0.7333 - val_loss: 0.7268 - val_accuracy: 0.6500\n",
            "Epoch 16/100\n",
            "10/10 [==============================] - 12s 1s/step - loss: 0.7413 - accuracy: 0.6667 - val_loss: 0.8425 - val_accuracy: 0.7500\n",
            "Epoch 17/100\n",
            "10/10 [==============================] - 13s 1s/step - loss: 0.6624 - accuracy: 0.7000 - val_loss: 0.6687 - val_accuracy: 0.9000\n",
            "Epoch 18/100\n",
            "10/10 [==============================] - 13s 1s/step - loss: 0.6503 - accuracy: 0.7667 - val_loss: 0.7383 - val_accuracy: 0.8500\n",
            "Epoch 19/100\n",
            "10/10 [==============================] - 12s 1s/step - loss: 0.5572 - accuracy: 0.7667 - val_loss: 1.0552 - val_accuracy: 0.4000\n",
            "Epoch 20/100\n",
            "10/10 [==============================] - 13s 1s/step - loss: 0.4332 - accuracy: 0.8667 - val_loss: 0.5671 - val_accuracy: 0.7000\n",
            "Epoch 21/100\n",
            "10/10 [==============================] - 17s 2s/step - loss: 0.6794 - accuracy: 0.6667 - val_loss: 0.6457 - val_accuracy: 0.7500\n",
            "Epoch 22/100\n",
            "10/10 [==============================] - 14s 1s/step - loss: 0.5199 - accuracy: 0.8333 - val_loss: 0.6315 - val_accuracy: 0.8000\n",
            "Epoch 23/100\n",
            "10/10 [==============================] - 13s 1s/step - loss: 0.4359 - accuracy: 0.7667 - val_loss: 0.5935 - val_accuracy: 0.8500\n",
            "Epoch 24/100\n",
            "10/10 [==============================] - 12s 1s/step - loss: 0.2952 - accuracy: 0.9333 - val_loss: 1.1252 - val_accuracy: 0.4000\n",
            "Epoch 25/100\n",
            "10/10 [==============================] - 13s 1s/step - loss: 0.4968 - accuracy: 0.7333 - val_loss: 0.6551 - val_accuracy: 0.7500\n"
          ]
        }
      ]
    },
    {
      "cell_type": "code",
      "source": [
        "model.save('/content/drive/MyDrive/model_saved1.h5')"
      ],
      "metadata": {
        "id": "wIMtGPIL6wK2"
      },
      "execution_count": 55,
      "outputs": []
    },
    {
      "cell_type": "code",
      "source": [
        "import matplotlib.pyplot as plt\n",
        "\n",
        "plt.plot(history.history['loss'])\n",
        "plt.plot(history.history['val_loss'])\n",
        "plt.title('Loss')\n",
        "plt.ylabel('Loss')\n",
        "plt.xlabel('Epoch')\n",
        "plt.legend(['Train', 'Validation'], loc='upper left')\n",
        "plt.show()"
      ],
      "metadata": {
        "colab": {
          "base_uri": "https://localhost:8080/",
          "height": 295
        },
        "id": "l6Th8LydwNHt",
        "outputId": "f5b36fdf-876c-4339-c830-d56e8c8be46d"
      },
      "execution_count": 150,
      "outputs": [
        {
          "output_type": "display_data",
          "data": {
            "text/plain": [
              "<Figure size 432x288 with 1 Axes>"
            ],
            "image/png": "[encoded data removed]"
          },
          "metadata": {
            "needs_background": "light"
          }
        }
      ]
    },
    {
      "cell_type": "code",
      "source": [
        "plt.plot(history.history['accuracy'])\n",
        "plt.plot(history.history['val_accuracy'])\n",
        "plt.title('Accuracy')\n",
        "plt.ylabel('Accuracy')\n",
        "plt.xlabel('Epoch')\n",
        "plt.legend(['Train', 'Validation'], loc='upper left')\n",
        "plt.show()"
      ],
      "metadata": {
        "colab": {
          "base_uri": "https://localhost:8080/",
          "height": 295
        },
        "id": "9cYrZdtFwWHS",
        "outputId": "0afef559-f778-43b1-8b1a-e5039f752af3"
      },
      "execution_count": 151,
      "outputs": [
        {
          "output_type": "display_data",
          "data": {
            "text/plain": [
              "<Figure size 432x288 with 1 Axes>"
            ],
            "image/png": "[encoded data removed]"
          },
          "metadata": {
            "needs_background": "light"
          }
        }
      ]
    },
    {
      "cell_type": "code",
      "source": [
        "from sklearn.metrics import confusion_matrix, ConfusionMatrixDisplay\n",
        "\n",
        "y_pred = model.predict(test_set)\n",
        "y_pred = np.argmax(y_pred, axis=1)\n",
        "\n",
        "y_true = test_set.classes\n",
        "\n",
        "cm = confusion_matrix(y_true, y_pred)\n",
        "\n",
        "disp = ConfusionMatrixDisplay(confusion_matrix=cm,\n",
        "                              display_labels=np.unique(y_true))\n",
        "\n",
        "\n"
      ],
      "metadata": {
        "id": "-yNNPVSR8lsQ",
        "colab": {
          "base_uri": "https://localhost:8080/"
        },
        "outputId": "e56b9c8a-ffea-4368-a0fa-38848a63246f"
      },
      "execution_count": 152,
      "outputs": [
        {
          "output_type": "stream",
          "name": "stdout",
          "text": [
            "10/10 [==============================] - 1s 93ms/step\n"
          ]
        }
      ]
    },
    {
      "cell_type": "code",
      "source": [
        "disp.plot()"
      ],
      "metadata": {
        "colab": {
          "base_uri": "https://localhost:8080/",
          "height": 300
        },
        "id": "ETTM3nQialTi",
        "outputId": "3fc4064d-4b51-460b-e225-2313b8010a21"
      },
      "execution_count": 153,
      "outputs": [
        {
          "output_type": "execute_result",
          "data": {
            "text/plain": [
              "<sklearn.metrics._plot.confusion_matrix.ConfusionMatrixDisplay at 0x7ff634dc3af0>"
            ]
          },
          "metadata": {},
          "execution_count": 153
        },
        {
          "output_type": "display_data",
          "data": {
            "text/plain": [
              "<Figure size 432x288 with 2 Axes>"
            ],
            "image/png": "[encoded data removed]"
          },
          "metadata": {
            "needs_background": "light"
          }
        }
      ]
    },
    {
      "cell_type": "code",
      "source": [
        "from keras.preprocessing import image\n",
        "from PIL import Image"
      ],
      "metadata": {
        "id": "g5U76s_y1Fq4"
      },
      "execution_count": 131,
      "outputs": []
    },
    {
      "cell_type": "code",
      "source": [
        "class_names = [\"samochod\", \"kot\", \"ptak\"]\n",
        "\n",
        "for i in range(1,11):\n",
        "  img_path = '/content/sample_data/check/'+str(i)+'.jpg'\n",
        "  img = Image.open(img_path)\n",
        "\n",
        "  img = img.resize((128,128))\n",
        "\n",
        "  img = np.array(img)\n",
        "\n",
        "  img = np.expand_dims(img, axis=0)\n",
        "  img = img / 255.\n",
        "\n",
        "  predictions = model.predict(img)\n",
        "\n",
        "  pclass = np.argmax(predictions)\n",
        "  class_prob = predictions[0, pclass]\n",
        "  class_names = [\"samochod\", \"kot\", \"ptak\"]\n",
        "  print(\"Predykowana clasa:\", pclass)\n",
        "  print(\"Na zdjęciu jest \" + class_names[pclass] + \" z wiarygodnością \" + str(round(class_prob*100,1))+' %')"
      ],
      "metadata": {
        "colab": {
          "base_uri": "https://localhost:8080/"
        },
        "id": "xQOBDtKVuslD",
        "outputId": "af6e20c6-a385-4293-e4ff-d748439f71df"
      },
      "execution_count": 155,
      "outputs": [
        {
          "output_type": "stream",
          "name": "stdout",
          "text": [
            "1/1 [==============================] - 0s 90ms/step\n",
            "Predykowana clasa: 1\n",
            "Na zdjęciu jest kot z wiarygodnością 57.2 %\n",
            "1/1 [==============================] - 0s 64ms/step\n",
            "Predykowana clasa: 2\n",
            "Na zdjęciu jest ptak z wiarygodnością 35.9 %\n",
            "1/1 [==============================] - 0s 72ms/step\n",
            "Predykowana clasa: 0\n",
            "Na zdjęciu jest samochod z wiarygodnością 80.2 %\n",
            "1/1 [==============================] - 0s 75ms/step\n",
            "Predykowana clasa: 0\n",
            "Na zdjęciu jest samochod z wiarygodnością 70.7 %\n",
            "1/1 [==============================] - 0s 65ms/step\n",
            "Predykowana clasa: 0\n",
            "Na zdjęciu jest samochod z wiarygodnością 61.4 %\n",
            "1/1 [==============================] - 0s 70ms/step\n",
            "Predykowana clasa: 0\n",
            "Na zdjęciu jest samochod z wiarygodnością 89.5 %\n",
            "1/1 [==============================] - 0s 73ms/step\n",
            "Predykowana clasa: 0\n",
            "Na zdjęciu jest samochod z wiarygodnością 71.2 %\n",
            "1/1 [==============================] - 0s 66ms/step\n",
            "Predykowana clasa: 0\n",
            "Na zdjęciu jest samochod z wiarygodnością 78.1 %\n",
            "1/1 [==============================] - 0s 71ms/step\n",
            "Predykowana clasa: 0\n",
            "Na zdjęciu jest samochod z wiarygodnością 78.9 %\n",
            "1/1 [==============================] - 0s 72ms/step\n",
            "Predykowana clasa: 0\n",
            "Na zdjęciu jest samochod z wiarygodnością 39.3 %\n"
          ]
        }
      ]
    },
    {
      "cell_type": "markdown",
      "source": [
        "macierz pomylek,\n",
        "porownywania z gotowcem,\n",
        "zbior Pana do testu,\n",
        "eksperyment\n"
      ],
      "metadata": {
        "id": "bBqRngDc5psg"
      }
    },
    {
      "cell_type": "code",
      "source": [
        "import numpy as np\n",
        "import tensorflow as tf\n",
        "from tensorflow.keras.preprocessing import image \n",
        "from tensorflow.keras.utils import plot_model"
      ],
      "metadata": {
        "id": "4MLNmav5bd8g"
      },
      "execution_count": 2,
      "outputs": []
    },
    {
      "cell_type": "code",
      "source": [
        "for i in range(1,11):\n",
        "  obraz = np.expand_dims(\n",
        "      image.img_to_array(\n",
        "          image.load_img('/content/sample_data/check/'+str(i)+'.jpg', target_size=(224,224,3))\n",
        "          ), axis=0\n",
        "      )\n",
        "\n",
        "  nn = tf.keras.applications.vgg16.VGG16(weights='imagenet')\n",
        "  y_pred = nn.predict(obraz)\n",
        "  print(tf.keras.applications.vgg16.decode_predictions(y_pred, top=5))"
      ],
      "metadata": {
        "colab": {
          "base_uri": "https://localhost:8080/"
        },
        "id": "2Eb1I9TzbhVZ",
        "outputId": "1ea79d57-ed0d-4aa0-8dd8-4747bfa4cca3"
      },
      "execution_count": 3,
      "outputs": [
        {
          "output_type": "stream",
          "name": "stdout",
          "text": [
            "1/1 [==============================] - 1s 822ms/step\n",
            "[[('n04037443', 'racer', 0.49642152), ('n03444034', 'go-kart', 0.16494311), ('n04285008', 'sports_car', 0.10383246), ('n03100240', 'convertible', 0.04443416), ('n02930766', 'cab', 0.02793459)]]\n",
            "1/1 [==============================] - 1s 685ms/step\n",
            "[[('n04252225', 'snowplow', 0.89697176), ('n02704792', 'amphibian', 0.03565987), ('n04037443', 'racer', 0.020738952), ('n02930766', 'cab', 0.016751278), ('n03444034', 'go-kart', 0.0077700866)]]\n",
            "1/1 [==============================] - 1s 685ms/step\n",
            "[[('n03100240', 'convertible', 0.64994556), ('n03445924', 'golfcart', 0.11043559), ('n02814533', 'beach_wagon', 0.038358327), ('n03670208', 'limousine', 0.036174245), ('n03899768', 'patio', 0.030441787)]]\n",
            "1/1 [==============================] - 1s 1s/step\n",
            "[[('n03770679', 'minivan', 0.43051335), ('n03769881', 'minibus', 0.26454243), ('n03977966', 'police_van', 0.12704173), ('n03930630', 'pickup', 0.08115084), ('n02814533', 'beach_wagon', 0.04231577)]]\n"
          ]
        },
        {
          "output_type": "stream",
          "name": "stderr",
          "text": [
            "WARNING:tensorflow:5 out of the last 5 calls to <function Model.make_predict_function.<locals>.predict_function at 0x7f7288aaa160> triggered tf.function retracing. Tracing is expensive and the excessive number of tracings could be due to (1) creating @tf.function repeatedly in a loop, (2) passing tensors with different shapes, (3) passing Python objects instead of tensors. For (1), please define your @tf.function outside of the loop. For (2), @tf.function has reduce_retracing=True option that can avoid unnecessary retracing. For (3), please refer to https://www.tensorflow.org/guide/function#controlling_retracing and https://www.tensorflow.org/api_docs/python/tf/function for  more details.\n"
          ]
        },
        {
          "output_type": "stream",
          "name": "stdout",
          "text": [
            "1/1 [==============================] - 1s 1s/step\n",
            "[[('n04037443', 'racer', 0.19914038), ('n03770679', 'minivan', 0.13649608), ('n04285008', 'sports_car', 0.13108836), ('n03100240', 'convertible', 0.08884519), ('n03670208', 'limousine', 0.05836331)]]\n"
          ]
        },
        {
          "output_type": "stream",
          "name": "stderr",
          "text": [
            "WARNING:tensorflow:6 out of the last 6 calls to <function Model.make_predict_function.<locals>.predict_function at 0x7f7288cd3d30> triggered tf.function retracing. Tracing is expensive and the excessive number of tracings could be due to (1) creating @tf.function repeatedly in a loop, (2) passing tensors with different shapes, (3) passing Python objects instead of tensors. For (1), please define your @tf.function outside of the loop. For (2), @tf.function has reduce_retracing=True option that can avoid unnecessary retracing. For (3), please refer to https://www.tensorflow.org/guide/function#controlling_retracing and https://www.tensorflow.org/api_docs/python/tf/function for  more details.\n"
          ]
        },
        {
          "output_type": "stream",
          "name": "stdout",
          "text": [
            "1/1 [==============================] - 1s 1s/step\n",
            "[[('n03770679', 'minivan', 0.5997627), ('n03670208', 'limousine', 0.17320639), ('n03977966', 'police_van', 0.06604922), ('n02930766', 'cab', 0.039924372), ('n02814533', 'beach_wagon', 0.038771126)]]\n",
            "1/1 [==============================] - 1s 663ms/step\n",
            "[[('n03770679', 'minivan', 0.3074539), ('n03670208', 'limousine', 0.26382303), ('n02814533', 'beach_wagon', 0.101109736), ('n03977966', 'police_van', 0.09421085), ('n02930766', 'cab', 0.053050745)]]\n",
            "1/1 [==============================] - 1s 672ms/step\n",
            "[[('n02930766', 'cab', 0.24482325), ('n04252225', 'snowplow', 0.16525318), ('n03770679', 'minivan', 0.08969523), ('n02965783', 'car_mirror', 0.055774093), ('n02701002', 'ambulance', 0.04998132)]]\n",
            "1/1 [==============================] - 1s 716ms/step\n",
            "[[('n04285008', 'sports_car', 0.3125191), ('n03670208', 'limousine', 0.31061003), ('n04037443', 'racer', 0.24368207), ('n03100240', 'convertible', 0.04289066), ('n02814533', 'beach_wagon', 0.03711396)]]\n",
            "1/1 [==============================] - 1s 680ms/step\n",
            "[[('n04252225', 'snowplow', 0.89615464), ('n04487081', 'trolleybus', 0.015034382), ('n04037443', 'racer', 0.013567272), ('n03345487', 'fire_engine', 0.008883856), ('n04461696', 'tow_truck', 0.007860856)]]\n"
          ]
        }
      ]
    }
  ]
}